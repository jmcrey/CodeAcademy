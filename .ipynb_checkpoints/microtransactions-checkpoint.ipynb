{
 "cells": [
  {
   "cell_type": "markdown",
   "metadata": {},
   "source": [
    "# Project: Hypothesis Testing for Microtransactions\n",
    "Brian is a Product Manager at FarmBurg, a company that makes a farming simulation social network game.  In the FarmBurg game, you can plow, plant, and harvest different crops.\n",
    "\n",
    "Today, you will be acting as Brian's data analyst for an A/B Test that he has been conducting."
   ]
  },
  {
   "cell_type": "markdown",
   "metadata": {},
   "source": [
    "## Part 1: Testing for Significant Difference"
   ]
  },
  {
   "cell_type": "markdown",
   "metadata": {},
   "source": [
    "Start by importing the following modules that you'll need for this project:\n",
    "- `pandas` as `pd`"
   ]
  },
  {
   "cell_type": "code",
   "execution_count": 1,
   "metadata": {},
   "outputs": [],
   "source": [
    "import pandas as pd #Don't forget to install the package via pip!"
   ]
  },
  {
   "cell_type": "markdown",
   "metadata": {},
   "source": [
    "Brian tells you that he ran an A/B test with three different groups: A, B, and C.  You're kind of busy today, so you don't ask too many questions about the differences between A, B, and C.  Maybe they were shown three different versions of an ad.  Who cares?\n",
    "\n",
    "(HINT: you will care later)\n",
    "\n",
    "Brian gives you a CSV of results called `clicks.csv`.  It has the following columns:\n",
    "- `user_id`: a unique id for each visitor to the FarmBerg site\n",
    "- `ab_test_group`: either `A`, `B`, or `C` depending on which group the visitor was assigned to\n",
    "- `click_day`: only filled in *if* the user clicked on a link to purchase\n",
    "\n",
    "Load `clicks.csv` into the variable `df`."
   ]
  },
  {
   "cell_type": "code",
   "execution_count": 2,
   "metadata": {},
   "outputs": [],
   "source": [
    "name = \"clicks.csv\"\n",
    "df = pd.read_csv(name) #Note, in order to read this file, it must be in the same directory as your jupyter notebook"
   ]
  },
  {
   "cell_type": "markdown",
   "metadata": {},
   "source": [
    "Define a new column called `is_purchase` which is `Purchase` if `click_day` is not `None` and `No Purchase` if `click_day` is `None`.  This will tell us if each visitor clicked on the Purchase link."
   ]
  },
  {
   "cell_type": "code",
   "execution_count": 3,
   "metadata": {
    "scrolled": false
   },
   "outputs": [],
   "source": [
    "new_values = [] #Array to track values which will be added to the column\n",
    "num_rows = len(df['group']) #Get the number of rows in the file by testing how many user_ids there are\n",
    "for i in range(num_rows): #Iterate \n",
    "    value = df.loc[i, 'click_day'] #Get the value of click_day at each iteration using row index and column name\n",
    "    if pd.isnull(value): #Checks if click_day is None (or NaN in this case)\n",
    "        new_values.append(\"No Purchase\")\n",
    "    else:\n",
    "        new_values.append(\"Purchase\")\n",
    "df['is_purchase'] = new_values #Creates the new column\n",
    "#writetocsv(name, df) -- use this to write back to the file if you want to"
   ]
  },
  {
   "cell_type": "markdown",
   "metadata": {
    "collapsed": true
   },
   "source": [
    "We want to count the number of users who made a purchase from each group.  Use `groupby` to count the number of `Purchase` and `No Purchase` from each `group`.  Save your answer to the variable `purchase_counts`.\n",
    "\n",
    "**Hint**: Group by `group` and `is_purchase` and the function `count` on the column `user_id`."
   ]
  },
  {
   "cell_type": "code",
   "execution_count": 4,
   "metadata": {},
   "outputs": [
    {
     "name": "stdout",
     "output_type": "stream",
     "text": [
      "group  is_purchase\n",
      "A      No Purchase    1350\n",
      "       Purchase        316\n",
      "B      No Purchase    1483\n",
      "       Purchase        183\n",
      "C      No Purchase    1583\n",
      "       Purchase         83\n",
      "Name: user_id, dtype: int64\n"
     ]
    }
   ],
   "source": [
    "purchase_counts = df.groupby(['group', 'is_purchase'])['user_id'].count() #returns number of purchased vs non-purchased per group\n",
    "print(purchase_counts)"
   ]
  },
  {
   "cell_type": "markdown",
   "metadata": {
    "collapsed": true
   },
   "source": [
    "This data is *categorical* and there are *more than 2* conditions, so we'll want to use a chi-squared test to see if there is a significant difference between the three conditions.\n",
    "\n",
    "Start by filling in the contingency table below with the correct values:\n",
    "```py\n",
    "contingency = [[groupA_purchases, groupA_not_purchases],\n",
    "               [groupB_purchases, groupB_not_purchases],\n",
    "               [groupC_purchases, groupC_not_purchases]]\n",
    "```"
   ]
  },
  {
   "cell_type": "code",
   "execution_count": 5,
   "metadata": {},
   "outputs": [],
   "source": [
    "#Filter row by row using the loc function\n",
    "contingency = [[int(purchase_counts.loc['A'].loc['Purchase']), int(purchase_counts.loc['A'].loc['No Purchase'])], \n",
    "               [int(purchase_counts.loc['B'].loc['Purchase']), int(purchase_counts.loc['B'].loc['No Purchase'])],\n",
    "               [int(purchase_counts.loc['C'].loc['Purchase']), int(purchase_counts.loc['C'].loc['No Purchase'])]]"
   ]
  },
  {
   "cell_type": "markdown",
   "metadata": {},
   "source": [
    "Now import the function `chi2_contingency` from `scipy.stats` and perform the chi-squared test.\n",
    "\n",
    "Recall that the *p-value* is the second output of `chi2_contingency`."
   ]
  },
  {
   "cell_type": "code",
   "execution_count": 6,
   "metadata": {},
   "outputs": [],
   "source": [
    "from scipy.stats import chi2_contingency #don't forget to install scipy via pip!"
   ]
  },
  {
   "cell_type": "code",
   "execution_count": 7,
   "metadata": {},
   "outputs": [
    {
     "name": "stdout",
     "output_type": "stream",
     "text": [
      "2.4126213546684264e-35\n"
     ]
    }
   ],
   "source": [
    "chi, p, dof, expected = chi2_contingency(contingency) #Store each return value with its descriptior \n",
    "print(p)"
   ]
  },
  {
   "cell_type": "markdown",
   "metadata": {},
   "source": [
    "Great! It looks like a significantly greater portion of users from Group A made a purchase."
   ]
  },
  {
   "cell_type": "markdown",
   "metadata": {},
   "source": [
    "## Part 2: Testing for Exceeding a Goal\n",
    "\n",
    "Your day is a little less busy than you expected, so you decide to ask Brian about his test.\n",
    "\n",
    "**You**: Hey Brian! What was that test you were running anyway?\n",
    "\n",
    "**Brian**: It was awesome! We are trying to get users to purchase a small FarmBurg upgrade package.  It's called a microtransaction.  We're not sure how much to charge for it, so we tested three different price points: \\$0.99, \\$1.99, and \\$4.99.  It looks like significantly more people bought the upgrade package for \\$0.99, so I guess that's what we'll charge.\n",
    "\n",
    "**You**: Oh no! I should have asked you this before we did that chi-squared test.  I don't think that this was the right test at all.  It's true that more people wanted purchase the upgrade at \\$0.99; you probably expected that.  What we really want to know is if each price point allows us to make enough money that we can exceed some target goal.  Brian, how much do you think it cost to build this feature?\n",
    "\n",
    "**Brian**: Hmm.  I guess that we need to generate a minimum of $1000 per week in order to justify this project.\n",
    "\n",
    "**You**: We have some work to do!"
   ]
  },
  {
   "cell_type": "markdown",
   "metadata": {},
   "source": [
    "How many visitors came to the site this week?\n",
    "\n",
    "Hint: Look at the length of `df`."
   ]
  },
  {
   "cell_type": "code",
   "execution_count": 8,
   "metadata": {},
   "outputs": [
    {
     "name": "stdout",
     "output_type": "stream",
     "text": [
      "4998\n"
     ]
    }
   ],
   "source": [
    "num_visits = len(df) #Similarly, you can do len(df['user_id']) to get the same result\n",
    "print(num_visits)"
   ]
  },
  {
   "cell_type": "markdown",
   "metadata": {},
   "source": [
    "Let's assume that this is how many visitors we generally get each week.  Given that, calculate the percent of visitors who would need to purchase the upgrade package at each price point (\\$0.99, \\$1.99, \\$4.99) in order to generate \\$1000 per week."
   ]
  },
  {
   "cell_type": "code",
   "execution_count": 9,
   "metadata": {},
   "outputs": [
    {
     "name": "stdout",
     "output_type": "stream",
     "text": [
      "0.202101042437\n"
     ]
    }
   ],
   "source": [
    "# Calculate the number of people who would need to purchase a $0.99 upgrade in order to generate $1000.\n",
    "# Then divide by the number of people who visit the site each week.\n",
    "x = 1000 / 0.99\n",
    "perc_one = x / num_visits\n",
    "print(perc_one)"
   ]
  },
  {
   "cell_type": "code",
   "execution_count": 10,
   "metadata": {},
   "outputs": [
    {
     "name": "stdout",
     "output_type": "stream",
     "text": [
      "0.100542729655\n"
     ]
    }
   ],
   "source": [
    "# Calculate the number of people who would need to purchase a $1.99 upgrade in order to generate $1000.\n",
    "# Then divide by the number of people who visit the site each week.\n",
    "y = 1000 / 1.99\n",
    "perc_two = y / num_visits\n",
    "print(perc_two)"
   ]
  },
  {
   "cell_type": "code",
   "execution_count": 11,
   "metadata": {},
   "outputs": [
    {
     "name": "stdout",
     "output_type": "stream",
     "text": [
      "0.0400961988002\n"
     ]
    }
   ],
   "source": [
    "# Calculate the number of people who would need to purchase a $4.99 upgrade in order to generate $1000.\n",
    "# Then divide by the number of people who visit the site each week.\n",
    "z = 1000 / 4.99\n",
    "perc_three = z / num_visits\n",
    "print(perc_three)"
   ]
  },
  {
   "cell_type": "markdown",
   "metadata": {},
   "source": [
    "Note that you need a smaller percentage of purchases for higher price points.\n",
    "\n",
    "Now, for each group, perform a binomial test using `binom_test` from `scipy.stats`.\n",
    "- `x` will be the number of purchases for that group\n",
    "- `n` will be the total number of visitors assigned to that group\n",
    "- `p` will be the target percent of purchases for that price point (calculated above)\n",
    "\n",
    "Recall that:\n",
    "- Group `A` is the \\$0.99 price point\n",
    "- Group `B` is the \\$1.99 price point\n",
    "- Group `C` is the \\$4.99 price point"
   ]
  },
  {
   "cell_type": "code",
   "execution_count": 12,
   "metadata": {},
   "outputs": [],
   "source": [
    "# import the binomial test from scipy.stats here\n",
    "from scipy.stats import binom_test"
   ]
  },
  {
   "cell_type": "code",
   "execution_count": 13,
   "metadata": {},
   "outputs": [
    {
     "name": "stdout",
     "output_type": "stream",
     "text": [
      "0.2111287299402726\n"
     ]
    }
   ],
   "source": [
    "# Test group A here\n",
    "x_A = contingency[0][0] #Grab number of group A purchases\n",
    "n_A = contingency[0][1] + contingency[0][0] #Get total number of purchases from group A\n",
    "targ_p_A = perc_one # Grab the target percentage for group A\n",
    "p_A = binom_test(x_A, n_A, targ_p_A) # Test group A\n",
    "print(p_A) #print the result"
   ]
  },
  {
   "cell_type": "code",
   "execution_count": 14,
   "metadata": {},
   "outputs": [
    {
     "name": "stdout",
     "output_type": "stream",
     "text": [
      "0.20660209246555486\n"
     ]
    }
   ],
   "source": [
    "# Test group B here\n",
    "x_B = contingency[1][0] #Grab number of group B purchases\n",
    "n_B = contingency[1][1] + contingency[1][0] #Get total number of purchases from group B\n",
    "targ_p_B = perc_two # Grab the target percentage for group B\n",
    "p_B = binom_test(x_B, n_B, targ_p_B) #Test group B\n",
    "print(p_B) #Print p-value for group B"
   ]
  },
  {
   "cell_type": "code",
   "execution_count": 15,
   "metadata": {},
   "outputs": [
    {
     "name": "stdout",
     "output_type": "stream",
     "text": [
      "0.045623672477172125\n"
     ]
    }
   ],
   "source": [
    "# Test group C here\n",
    "x_C = contingency[2][0] #Grab number of group C purchases\n",
    "n_C = contingency[2][1] + contingency[2][0] #Get total number of purchases from group C\n",
    "targ_p_C = perc_three #Grab the target percentage for group C\n",
    "p_C = binom_test(x_C, n_C, targ_p_C) #Test group C\n",
    "print(p_C) #Print group C p-value"
   ]
  },
  {
   "cell_type": "markdown",
   "metadata": {},
   "source": [
    "If any of the groups passed the binomial test with $p < 0.05$, then we can be confident that enough people will buy the upgrade package at that price point to justify the feature.\n",
    "\n",
    "Which price point should Brian go with?  Did this surprise you?"
   ]
  },
  {
   "cell_type": "markdown",
   "metadata": {},
   "source": [
    "Based on the statistical tests, he should go with the price point of $4.99. This result is both shocking and not shocking. This is not shocking because such a low percentage of customers needed to buy at this price point in order to satisfy Brian's needs. At the same time, however, it is somewhat shocking because it is the highest price point which, typically, is not the correct business route."
   ]
  }
 ],
 "metadata": {
  "kernelspec": {
   "display_name": "Python 2",
   "language": "python",
   "name": "python2"
  },
  "language_info": {
   "codemirror_mode": {
    "name": "ipython",
    "version": 2
   },
   "file_extension": ".py",
   "mimetype": "text/x-python",
   "name": "python",
   "nbconvert_exporter": "python",
   "pygments_lexer": "ipython2",
   "version": "2.7.12"
  }
 },
 "nbformat": 4,
 "nbformat_minor": 2
}
